{
 "cells": [
  {
   "cell_type": "code",
   "execution_count": 1,
   "metadata": {},
   "outputs": [
    {
     "name": "stderr",
     "output_type": "stream",
     "text": [
      "Using TensorFlow backend.\n"
     ]
    }
   ],
   "source": [
    "import torch\n",
    "import warnings\n",
    "import numpy as np\n",
    "import pandas as pd\n",
    "import seaborn as sns\n",
    "import matplotlib.pyplot as plt\n",
    "from torch import nn, optim, cuda\n",
    "from torch.utils import data as torch_data\n",
    "from torchvision import datasets, transforms\n",
    "from keras import layers, models, initializers\n",
    "\n",
    "plt.rcParams['image.cmap'] = 'gray'\n",
    "sns.set()\n",
    "device = 'cuda' if cuda.is_available() else 'cpu'\n",
    "warnings.filterwarnings('ignore')\n",
    "\n",
    "%matplotlib inline"
   ]
  },
  {
   "cell_type": "markdown",
   "metadata": {},
   "source": [
    "### Question 1: MLP"
   ]
  },
  {
   "cell_type": "markdown",
   "metadata": {},
   "source": [
    "#### The Dataset"
   ]
  },
  {
   "cell_type": "code",
   "execution_count": 2,
   "metadata": {},
   "outputs": [
    {
     "data": {
      "image/png": "[encoded data removed]",
      "text/plain": [
       "<Figure size 432x288 with 1 Axes>"
      ]
     },
     "metadata": {
      "needs_background": "light"
     },
     "output_type": "display_data"
    }
   ],
   "source": [
    "xor_data = pd.DataFrame({\n",
    "    'x1': [0, 0, 1, 1],\n",
    "    'x2': [0, 1, 0, 1],\n",
    "    'out': [0, 1, 1, 0]\n",
    "})\n",
    "\n",
    "_ = sns.scatterplot(x='x1', y='x2', hue='out', data=xor_data, s=200)\n",
    "_ = _.set_title(\"XOR Dataset\")"
   ]
  },
  {
   "cell_type": "markdown",
   "metadata": {},
   "source": [
    "#### Defining the network"
   ]
  },
  {
   "cell_type": "code",
   "execution_count": 3,
   "metadata": {},
   "outputs": [],
   "source": [
    "class MLP:\n",
    "    def __init__(self, input_dim, hidden_dim, output_dim, lr=0.1):\n",
    "        init_weights = lambda shape: np.random.uniform(size=shape)\n",
    "        self.w_ih = init_weights((input_dim, hidden_dim))\n",
    "        self.b_h = init_weights((1, hidden_dim))\n",
    "        self.w_ho = init_weights((hidden_dim, output_dim))\n",
    "        self.b_o = init_weights((1, output_dim))\n",
    "        self.lr = lr\n",
    "    \n",
    "    def sigmoid(self, z):\n",
    "        return 1 / (1 + np.exp(-z))\n",
    "    \n",
    "    def sigmoid_prime(self, z):\n",
    "        return np.multiply(z, 1 - z)\n",
    "    \n",
    "    def forward(self, x):\n",
    "        h = self.sigmoid(np.matmul(x, self.w_ih) + self.b_h)\n",
    "        o = self.sigmoid(np.matmul(h, self.w_ho) + self.b_o)\n",
    "        \n",
    "        return o, h\n",
    "    \n",
    "    def backward(self, truth_val, out_val, hid_val):\n",
    "        error = truth_val - out_val\n",
    "        error_ho = np.multiply(error, self.sigmoid_prime(out_val))\n",
    "        error_ih = np.matmul(error_ho, self.w_ho.T)\n",
    "        error_ih = np.multiply(error_ih, self.sigmoid_prime(hid_val))\n",
    "        \n",
    "        return error_ih, error_ho\n",
    "    \n",
    "    def SGD(self, grad_ih, grad_ho, in_val, hid_val):\n",
    "        self.w_ho += self.lr * np.matmul(hid_val.T, grad_ho)\n",
    "        self.b_o += self.lr * np.sum(grad_ho, axis=0)#, keepdims=True)\n",
    "        self.w_ih += self.lr * np.matmul(in_val.T, grad_ih)\n",
    "        self.b_h += self.lr * np.sum(grad_ih, axis=0)#, keepdims=True)\n",
    "\n",
    "    def fit(self, x, y, epochs=10):\n",
    "        for _ in range(epochs):\n",
    "            out, hidden = self.forward(x)\n",
    "            grads = self.backward(y, out, hidden)\n",
    "            self.SGD(*grads, x, hidden)\n",
    "    \n",
    "    def predict(self, x):\n",
    "        return self.forward(x)[0]"
   ]
  },
  {
   "cell_type": "markdown",
   "metadata": {},
   "source": [
    "#### Training the network"
   ]
  },
  {
   "cell_type": "code",
   "execution_count": 4,
   "metadata": {},
   "outputs": [
    {
     "data": {
      "text/html": [
       "<div>\n",
       "<style scoped>\n",
       "    .dataframe tbody tr th:only-of-type {\n",
       "        vertical-align: middle;\n",
       "    }\n",
       "\n",
       "    .dataframe tbody tr th {\n",
       "        vertical-align: top;\n",
       "    }\n",
       "\n",
       "    .dataframe thead th {\n",
       "        text-align: right;\n",
       "    }\n",
       "</style>\n",
       "<table border=\"1\" class=\"dataframe\">\n",
       "  <thead>\n",
       "    <tr style=\"text-align: right;\">\n",
       "      <th></th>\n",
       "      <th>x1</th>\n",
       "      <th>x2</th>\n",
       "      <th>out</th>\n",
       "      <th>Prob(belonging to class 1)</th>\n",
       "    </tr>\n",
       "  </thead>\n",
       "  <tbody>\n",
       "    <tr>\n",
       "      <th>0</th>\n",
       "      <td>0</td>\n",
       "      <td>0</td>\n",
       "      <td>0</td>\n",
       "      <td>0.477184</td>\n",
       "    </tr>\n",
       "    <tr>\n",
       "      <th>1</th>\n",
       "      <td>0</td>\n",
       "      <td>1</td>\n",
       "      <td>1</td>\n",
       "      <td>0.509593</td>\n",
       "    </tr>\n",
       "    <tr>\n",
       "      <th>2</th>\n",
       "      <td>1</td>\n",
       "      <td>0</td>\n",
       "      <td>1</td>\n",
       "      <td>0.506529</td>\n",
       "    </tr>\n",
       "    <tr>\n",
       "      <th>3</th>\n",
       "      <td>1</td>\n",
       "      <td>1</td>\n",
       "      <td>0</td>\n",
       "      <td>0.525330</td>\n",
       "    </tr>\n",
       "  </tbody>\n",
       "</table>\n",
       "</div>"
      ],
      "text/plain": [
       "   x1  x2  out  Prob(belonging to class 1)\n",
       "0   0   0    0                    0.477184\n",
       "1   0   1    1                    0.509593\n",
       "2   1   0    1                    0.506529\n",
       "3   1   1    0                    0.525330"
      ]
     },
     "execution_count": 4,
     "metadata": {},
     "output_type": "execute_result"
    }
   ],
   "source": [
    "m = MLP(2, 2, 1)\n",
    "\n",
    "m.fit(xor_data.values[:, :-1], np.matrix(xor_data.values[:, -1]).T, epochs=1000)\n",
    "probs = m.predict(xor_data.values[:, :-1]).T.tolist()[0]\n",
    "xor_data.copy().join(pd.DataFrame({\n",
    "    'Prob(belonging to class 1)': probs\n",
    "}))"
   ]
  },
  {
   "cell_type": "markdown",
   "metadata": {},
   "source": [
    "#### Training Loop (Common to all questions)"
   ]
  },
  {
   "cell_type": "code",
   "execution_count": 5,
   "metadata": {},
   "outputs": [],
   "source": [
    "def train_epoch(epoch_no, model, optimizer, criterion, data_l):\n",
    "    model.train()\n",
    "    epoch_loss = 0\n",
    "    epoch_acc = 0\n",
    "    total = 0\n",
    "    \n",
    "    for i, (features, labels) in enumerate(data_l):\n",
    "        total += labels.size(0)\n",
    "        \n",
    "        features = features.to(device)\n",
    "        labels = labels.to(device)\n",
    "\n",
    "        optimizer.zero_grad()\n",
    "        output = model(features)\n",
    "        loss = criterion(output, labels)\n",
    "        _, predicted = torch.max(output, dim=-1)\n",
    "\n",
    "        epoch_acc += (predicted == labels).sum().item()\n",
    "        epoch_loss += loss.item()\n",
    "\n",
    "        loss.backward()\n",
    "        optimizer.step()\n",
    "    \n",
    "    return epoch_loss / total, epoch_acc / total\n",
    "\n",
    "\n",
    "def train(model, optimizer, criterion, train_data, epochs=10):\n",
    "    losses = []\n",
    "    accs = []\n",
    "    for epoch in range(epochs):\n",
    "        l, a = train_epoch(epoch, model, optimizer, criterion, train_data)\n",
    "        losses.append(l)\n",
    "        accs.append(a)\n",
    "        \n",
    "        print(f\"Epoch: {epoch}\")\n",
    "        print(f\"\\tLoss: {l}\")\n",
    "        print(f\"\\tAccuracy: {a}\")\n",
    "    \n",
    "    return losses, accs"
   ]
  },
  {
   "cell_type": "markdown",
   "metadata": {},
   "source": [
    "### Question 2: CNN"
   ]
  },
  {
   "cell_type": "markdown",
   "metadata": {},
   "source": [
    "#### The Dataset (MNIST Handwritten Digits)"
   ]
  },
  {
   "cell_type": "code",
   "execution_count": 6,
   "metadata": {},
   "outputs": [],
   "source": [
    "mnist_train = datasets.MNIST(root='.', train=True, download=True, transform=lambda x: np.array(x).reshape(1, 28, 28))\n",
    "train_loader = torch_data.DataLoader(mnist_train, batch_size=1000, shuffle=True)"
   ]
  },
  {
   "cell_type": "markdown",
   "metadata": {},
   "source": [
    "#### Visualizing a few examples"
   ]
  },
  {
   "cell_type": "code",
   "execution_count": 7,
   "metadata": {},
   "outputs": [
    {
     "data": {
      "image/png": "[encoded data removed]",
      "text/plain": [
       "<Figure size 921.6x691.2 with 4 Axes>"
      ]
     },
     "metadata": {
      "needs_background": "light"
     },
     "output_type": "display_data"
    }
   ],
   "source": [
    "rand_idxs = np.random.randint(len(mnist_train), size=4)\n",
    "fig, ax = plt.subplots(2, 2, figsize=(6.4 * 2, 4.8 * 2))\n",
    "for i, axis in enumerate(ax.flatten()):\n",
    "    example = mnist_train[rand_idxs[i]]\n",
    "    _ = axis.imshow(np.squeeze(example[0]))\n",
    "    _ = axis.set_title(f\"Ground Truth: {example[1]}\")"
   ]
  },
  {
   "cell_type": "markdown",
   "metadata": {},
   "source": [
    "#### Defining the network"
   ]
  },
  {
   "cell_type": "code",
   "execution_count": 8,
   "metadata": {},
   "outputs": [],
   "source": [
    "class SimpleCNN(nn.Module):\n",
    "    def __init__(self, in_shape, num_classes, *args, **kwargs):\n",
    "        super().__init__(*args, **kwargs)\n",
    "        channels, h, w = in_shape\n",
    "        fc1_in = h - 6\n",
    "        self.conv1 = nn.Conv2d(in_channels=channels, out_channels=5, kernel_size=3).to(device)\n",
    "        self.conv2 = nn.Conv2d(in_channels=5, out_channels=10, kernel_size=5).to(device)\n",
    "        self.flatten = nn.Flatten().to(device)\n",
    "        self.fc1 = nn.Linear(in_features=fc1_in * fc1_in * 10, out_features=30).to(device)\n",
    "        self.fc2 = nn.Linear(in_features=30, out_features=15).to(device)\n",
    "        self.out_layer = nn.Linear(in_features=15, out_features=num_classes).to(device)\n",
    "        self.tanh = nn.Tanh().to(device)\n",
    "        self.relu = nn.ReLU().to(device)\n",
    "        self.sigmoid = nn.Sigmoid().to(device)\n",
    "        self.softmax = nn.Softmax(dim=-1).to(device)\n",
    "    \n",
    "    def forward(self, x):\n",
    "        if type(x) != torch.Tensor:\n",
    "            x = torch.FloatTensor(x).to(device)\n",
    "\n",
    "        x = x.float()\n",
    "        x = self.tanh(self.conv1(x))\n",
    "        x = self.tanh(self.conv2(x))\n",
    "        x = self.flatten(x)\n",
    "        x = self.relu(self.fc1(x))\n",
    "        x = self.relu(self.fc2(x))\n",
    "        x = self.softmax(self.out_layer(x))\n",
    "        return x\n",
    "\n",
    "\n",
    "simple_cnn = SimpleCNN((1, 28, 28), 10)\n",
    "adam_opt = optim.Adam(simple_cnn.parameters())\n",
    "cel = nn.CrossEntropyLoss()"
   ]
  },
  {
   "cell_type": "markdown",
   "metadata": {},
   "source": [
    "#### Training the network"
   ]
  },
  {
   "cell_type": "code",
   "execution_count": 9,
   "metadata": {
    "scrolled": false
   },
   "outputs": [
    {
     "name": "stdout",
     "output_type": "stream",
     "text": [
      "Epoch: 0\n",
      "\tLoss: 0.0018675265689690908\n",
      "\tAccuracy: 0.6465666666666666\n",
      "Epoch: 1\n",
      "\tLoss: 0.001628229123353958\n",
      "\tAccuracy: 0.84145\n",
      "Epoch: 2\n",
      "\tLoss: 0.001602003171046575\n",
      "\tAccuracy: 0.8635333333333334\n",
      "Epoch: 3\n",
      "\tLoss: 0.0015907064417997995\n",
      "\tAccuracy: 0.8732333333333333\n"
     ]
    },
    {
     "data": {
      "image/png": "[encoded data removed]",
      "text/plain": [
       "<Figure size 921.6x345.6 with 2 Axes>"
      ]
     },
     "metadata": {
      "needs_background": "light"
     },
     "output_type": "display_data"
    }
   ],
   "source": [
    "ls_, as_ = train(simple_cnn, adam_opt, cel, train_data=train_loader, epochs=4)\n",
    "\n",
    "fig, ax = plt.subplots(1, 2, figsize=(6.4 * 2, 4.8))\n",
    "_ = sns.lineplot(range(len(ls_)), ls_, ci=None, ax=ax[0])\n",
    "_ = ax[0].set_title(\"Loss\")\n",
    "_ = sns.lineplot(range(len(as_)), as_, ci=None, ax=ax[1])\n",
    "_ = ax[1].set_title(\"Accuracy\")"
   ]
  },
  {
   "cell_type": "markdown",
   "metadata": {},
   "source": [
    "#### Testing the network"
   ]
  },
  {
   "cell_type": "code",
   "execution_count": 10,
   "metadata": {},
   "outputs": [
    {
     "data": {
      "image/png": "[encoded data removed]",
      "text/plain": [
       "<Figure size 921.6x691.2 with 4 Axes>"
      ]
     },
     "metadata": {
      "needs_background": "light"
     },
     "output_type": "display_data"
    }
   ],
   "source": [
    "random_idxs = np.random.randint(len(mnist_train), size=4)\n",
    "fig, ax = plt.subplots(2, 2, figsize=(6.4 * 2, 4.8 * 2))\n",
    "\n",
    "for i, axis in enumerate(ax.flatten()):\n",
    "    example = mnist_train[random_idxs[i]]\n",
    "    pred = simple_cnn(np.expand_dims(example[0], axis=0))\n",
    "    conf, pred = torch.max(pred, dim=-1)\n",
    "    _ = axis.imshow(np.squeeze(example[0]))\n",
    "    _ = axis.set_title(f\"Ground Truth: {example[1]}\\nPredicted: {pred.item()}\\nConfidence: {conf.item() * 100:.2f}%\")\n",
    "plt.tight_layout()"
   ]
  },
  {
   "cell_type": "markdown",
   "metadata": {},
   "source": [
    "### Question 3: LSTM Network"
   ]
  },
  {
   "cell_type": "markdown",
   "metadata": {},
   "source": [
    "#### Loading the Word Embeddings\n",
    "##### These embeddings are 100-dimensional embeddings taken from Stanford's GloVe embeddings"
   ]
  },
  {
   "cell_type": "code",
   "execution_count": 11,
   "metadata": {},
   "outputs": [
    {
     "name": "stdout",
     "output_type": "stream",
     "text": [
      "(400000, 100)\n"
     ]
    }
   ],
   "source": [
    "words = []\n",
    "embed_vec_dicts = dict()\n",
    "embed_matrix = []\n",
    "with open(\"glove.6B.100d.txt\", mode='r', encoding='utf-8') as f:\n",
    "    for line in f:\n",
    "        split_line = line.split()\n",
    "        word = split_line.pop(0)\n",
    "        word_vec = [eval(val) for val in split_line]\n",
    "        words.append(word.lower())\n",
    "        embed_vec_dicts[word] = word_vec\n",
    "        embed_matrix.append(word_vec)\n",
    "\n",
    "embed_matrix = np.matrix(embed_matrix)\n",
    "print(embed_matrix.shape)\n",
    "i_to_word = dict(enumerate(words))\n",
    "word_to_i = {val: key for key, val in i_to_word.items()}"
   ]
  },
  {
   "cell_type": "markdown",
   "metadata": {},
   "source": [
    "#### Helper Functions"
   ]
  },
  {
   "cell_type": "code",
   "execution_count": 12,
   "metadata": {},
   "outputs": [],
   "source": [
    "def get_index(x):\n",
    "    out = []\n",
    "    for w in x:\n",
    "        if w in word_to_i.keys():\n",
    "            out.append(word_to_i[w])\n",
    "    \n",
    "    return out"
   ]
  },
  {
   "cell_type": "markdown",
   "metadata": {},
   "source": [
    "#### The Dataset (IMDB Review Dataset) [and some preprocessing]"
   ]
  },
  {
   "cell_type": "code",
   "execution_count": 13,
   "metadata": {},
   "outputs": [
    {
     "data": {
      "text/html": [
       "<div>\n",
       "<style scoped>\n",
       "    .dataframe tbody tr th:only-of-type {\n",
       "        vertical-align: middle;\n",
       "    }\n",
       "\n",
       "    .dataframe tbody tr th {\n",
       "        vertical-align: top;\n",
       "    }\n",
       "\n",
       "    .dataframe thead th {\n",
       "        text-align: right;\n",
       "    }\n",
       "</style>\n",
       "<table border=\"1\" class=\"dataframe\">\n",
       "  <thead>\n",
       "    <tr style=\"text-align: right;\">\n",
       "      <th></th>\n",
       "      <th>type</th>\n",
       "      <th>review</th>\n",
       "      <th>label</th>\n",
       "      <th>inputs</th>\n",
       "      <th>is_pos_class</th>\n",
       "      <th>neg</th>\n",
       "      <th>pos</th>\n",
       "    </tr>\n",
       "  </thead>\n",
       "  <tbody>\n",
       "    <tr>\n",
       "      <th>0</th>\n",
       "      <td>test</td>\n",
       "      <td>once again mr. costner has dragged out a movie...</td>\n",
       "      <td>neg</td>\n",
       "      <td>[442, 378, 1995, 29080, 31, 7427, 66, 7, 1005,...</td>\n",
       "      <td>0</td>\n",
       "      <td>0</td>\n",
       "      <td>1</td>\n",
       "    </tr>\n",
       "    <tr>\n",
       "      <th>1</th>\n",
       "      <td>test</td>\n",
       "      <td>this is an example of why the majority of acti...</td>\n",
       "      <td>neg</td>\n",
       "      <td>[37, 14, 29, 880, 3, 738, 0, 902, 3, 608, 1588...</td>\n",
       "      <td>0</td>\n",
       "      <td>0</td>\n",
       "      <td>1</td>\n",
       "    </tr>\n",
       "    <tr>\n",
       "      <th>2</th>\n",
       "      <td>test</td>\n",
       "      <td>first of all i hate those moronic rappers, who...</td>\n",
       "      <td>neg</td>\n",
       "      <td>[58, 3, 64, 41, 5281, 155, 89385, 38, 743, 83,...</td>\n",
       "      <td>0</td>\n",
       "      <td>0</td>\n",
       "      <td>1</td>\n",
       "    </tr>\n",
       "    <tr>\n",
       "      <th>3</th>\n",
       "      <td>test</td>\n",
       "      <td>not even the beatles could write songs everyon...</td>\n",
       "      <td>neg</td>\n",
       "      <td>[36, 151, 0, 9440, 94, 2432, 1499, 1402, 5, 37...</td>\n",
       "      <td>0</td>\n",
       "      <td>0</td>\n",
       "      <td>1</td>\n",
       "    </tr>\n",
       "    <tr>\n",
       "      <th>4</th>\n",
       "      <td>test</td>\n",
       "      <td>brass pictures (movies is not a fitting word f...</td>\n",
       "      <td>neg</td>\n",
       "      <td>[9403, 2490, 14, 36, 7, 10634, 1388, 10, 588, ...</td>\n",
       "      <td>0</td>\n",
       "      <td>0</td>\n",
       "      <td>1</td>\n",
       "    </tr>\n",
       "  </tbody>\n",
       "</table>\n",
       "</div>"
      ],
      "text/plain": [
       "   type                                             review label  \\\n",
       "0  test  once again mr. costner has dragged out a movie...   neg   \n",
       "1  test  this is an example of why the majority of acti...   neg   \n",
       "2  test  first of all i hate those moronic rappers, who...   neg   \n",
       "3  test  not even the beatles could write songs everyon...   neg   \n",
       "4  test  brass pictures (movies is not a fitting word f...   neg   \n",
       "\n",
       "                                              inputs  is_pos_class  neg  pos  \n",
       "0  [442, 378, 1995, 29080, 31, 7427, 66, 7, 1005,...             0    0    1  \n",
       "1  [37, 14, 29, 880, 3, 738, 0, 902, 3, 608, 1588...             0    0    1  \n",
       "2  [58, 3, 64, 41, 5281, 155, 89385, 38, 743, 83,...             0    0    1  \n",
       "3  [36, 151, 0, 9440, 94, 2432, 1499, 1402, 5, 37...             0    0    1  \n",
       "4  [9403, 2490, 14, 36, 7, 10634, 1388, 10, 588, ...             0    0    1  "
      ]
     },
     "execution_count": 13,
     "metadata": {},
     "output_type": "execute_result"
    }
   ],
   "source": [
    "imdb = pd.read_csv(\"imdb_master.csv\", header=0, encoding='cp1252', usecols=[\"type\", \"review\", \"label\"])\n",
    "imdb = imdb.loc[imdb.label != 'unsup', :]# removing the unsup class\n",
    "imdb.review = imdb.review.str.lower()\n",
    "imdb['inputs'] = imdb.review.str.split().apply(get_index)\n",
    "imdb['is_pos_class'] = imdb.label.apply(lambda x: 1 if x == 'pos' else 0)\n",
    "imdb = imdb.join(pd.get_dummies(imdb.label))\n",
    "imdb.neg = imdb.neg.apply(lambda x: 1 - x)\n",
    "imdb.pos = imdb.pos.apply(lambda x: 1 - x)\n",
    "imdb.head()"
   ]
  },
  {
   "cell_type": "markdown",
   "metadata": {},
   "source": [
    "#### Splitting the dataset"
   ]
  },
  {
   "cell_type": "code",
   "execution_count": 14,
   "metadata": {},
   "outputs": [
    {
     "name": "stdout",
     "output_type": "stream",
     "text": [
      "Train: (25000, 7)\n",
      "Test: (25000, 7)\n"
     ]
    }
   ],
   "source": [
    "imdb_train = imdb.loc[imdb.type == 'train', :]\n",
    "imdb_test = imdb.loc[imdb.type == 'test', :]\n",
    "imdb_train.index = range(imdb_train.shape[0])\n",
    "imdb_test.index = range(imdb_test.shape[0])\n",
    "print(f\"Train: {imdb_train.shape}\\nTest: {imdb_test.shape}\")"
   ]
  },
  {
   "cell_type": "markdown",
   "metadata": {},
   "source": [
    "#### The Balance of Classes"
   ]
  },
  {
   "cell_type": "code",
   "execution_count": 15,
   "metadata": {},
   "outputs": [
    {
     "data": {
      "image/png": "[encoded data removed]",
      "text/plain": [
       "<Figure size 921.6x345.6 with 2 Axes>"
      ]
     },
     "metadata": {
      "needs_background": "light"
     },
     "output_type": "display_data"
    }
   ],
   "source": [
    "fig, ax = plt.subplots(1, 2, figsize=(6.4 * 2, 4.8))\n",
    "_ = sns.countplot(x='label', data=imdb_train, ax=ax[0])\n",
    "_ = sns.countplot(x='label', data=imdb_test, ax=ax[1])"
   ]
  },
  {
   "cell_type": "markdown",
   "metadata": {},
   "source": [
    "#### Making the Dataset"
   ]
  },
  {
   "cell_type": "code",
   "execution_count": 16,
   "metadata": {},
   "outputs": [],
   "source": [
    "class IMDB(torch_data.Dataset):\n",
    "    def __init__(self, data):\n",
    "        self.data = data.reset_index().drop(['index'], axis=1)\n",
    "    \n",
    "    def __len__(self):\n",
    "        return self.data.shape[0]\n",
    "    \n",
    "    def __getitem__(self, idx):\n",
    "#         print(idx)\n",
    "#         print(f\"Stuff: {torch.LongTensor(self.data.loc[idx, 'inputs'])}\")\n",
    "#         print(f\"Stuff Again: {(self.data.loc[idx, 'is_pos_class'])}\") # self.data.loc[idx, slice('neg', 'pos')]\n",
    "        return torch.LongTensor(self.data.loc[idx, 'inputs']), self.data.loc[idx, 'is_pos_class']\n",
    "\n",
    "\n",
    "train_set = IMDB(imdb_train)\n",
    "test_set = IMDB(imdb_test)\n",
    "\n",
    "train_loader = torch_data.DataLoader(train_set, shuffle=True, batch_size=1)\n",
    "test_loader = torch_data.DataLoader(test_set, shuffle=True, batch_size=1)"
   ]
  },
  {
   "cell_type": "markdown",
   "metadata": {},
   "source": [
    "#### Defining the network"
   ]
  },
  {
   "cell_type": "code",
   "execution_count": 17,
   "metadata": {},
   "outputs": [],
   "source": [
    "class SimpleLSTM(nn.Module):\n",
    "    def __init__(self, num_classes, vocab_size, embedding_dim, hidden_dim, embed_mtx, *args, **kwargs):\n",
    "        super().__init__(*args, **kwargs)\n",
    "        \n",
    "        self.hid = hidden_dim\n",
    "        \n",
    "        self.embedding = nn.Embedding.from_pretrained(torch.Tensor(embed_mtx))\n",
    "        self.embedding.weight.requires_grad = False\n",
    "        self.embedding.to(device)\n",
    "        \n",
    "        self.lstm1 = nn.LSTM(input_size=embedding_dim, hidden_size=hidden_dim).to(device)\n",
    "        self.flatten = nn.Flatten().to(device)\n",
    "        self.fc1 = nn.Linear(hidden_dim, hidden_dim // 2).to(device)\n",
    "        self.output_layer = nn.Linear(hidden_dim // 2, num_classes).to(device)\n",
    "        self.relu = nn.ReLU().to(device)\n",
    "        self.tanh = nn.Tanh().to(device)\n",
    "        self.softmax = nn.Softmax().to(device)\n",
    "    \n",
    "    def forward(self, x):\n",
    "#         if type(x) != torch.Tensor:\n",
    "#             x = torch.FloatTensor(x).to(device)\n",
    "        x = self.embedding(x)\n",
    "        out, (hidden, context) = self.lstm1(x)\n",
    "        x = self.tanh(out)\n",
    "#         print(f\"{x.shape}\")\n",
    "        x = self.flatten(x)\n",
    "#         print(f\"X: {x.size(1)}\")\n",
    "        x = nn.Linear(x.size(1), self.hid // 2).to(device)(x)\n",
    "        x = self.relu(x)\n",
    "        x = self.softmax(self.output_layer(x))\n",
    "        return x\n",
    "\n",
    "\n",
    "simple_lstm = SimpleLSTM(len(pd.unique(imdb_train.label)), *embed_matrix.shape, 20, embed_matrix)\n",
    "adam_opt = optim.Adam(simple_lstm.parameters())\n",
    "cel = nn.CrossEntropyLoss()"
   ]
  },
  {
   "cell_type": "markdown",
   "metadata": {},
   "source": [
    "#### Training the network"
   ]
  },
  {
   "cell_type": "code",
   "execution_count": 18,
   "metadata": {
    "scrolled": true
   },
   "outputs": [
    {
     "name": "stdout",
     "output_type": "stream",
     "text": [
      "Epoch: 0\n",
      "\tLoss: 0.693332483701706\n",
      "\tAccuracy: 0.50384\n",
      "Epoch: 1\n",
      "\tLoss: 0.6915407834529876\n",
      "\tAccuracy: 0.52376\n"
     ]
    },
    {
     "data": {
      "image/png": "[encoded data removed]",
      "text/plain": [
       "<Figure size 921.6x345.6 with 2 Axes>"
      ]
     },
     "metadata": {
      "needs_background": "light"
     },
     "output_type": "display_data"
    }
   ],
   "source": [
    "ls_, as_ = train(simple_lstm, adam_opt, cel, train_loader, epochs=2)\n",
    "\n",
    "fig, ax = plt.subplots(1, 2, figsize=(6.4 * 2, 4.8))\n",
    "_ = sns.lineplot(range(len(ls_)), ls_, ci=None, ax=ax[0])\n",
    "_ = ax[0].set_title(\"Loss\")\n",
    "_ = sns.lineplot(range(len(as_)), as_, ci=None, ax=ax[1])\n",
    "_ = ax[1].set_title(\"Accuracy\")"
   ]
  },
  {
   "cell_type": "code",
   "execution_count": 19,
   "metadata": {},
   "outputs": [],
   "source": [
    "# def get_model(num_classes, embed_mtx):\n",
    "#     X_in = layers.Input(shape=(None,))\n",
    "#     X = layers.Embedding(*embed_mtx.shape, input_length=None, embeddings_initializer=initializers.Constant(embed_mtx))(X_in)\n",
    "#     X = layers.LSTM(50, return_sequences=True)(X)\n",
    "#     X = layers.LSTM(25)(X)\n",
    "#     X = layers.Dense(num_classes, activation='softmax')(X)\n",
    "    \n",
    "#     return models.Model(inputs=X_in, outputs=X)"
   ]
  },
  {
   "cell_type": "code",
   "execution_count": 20,
   "metadata": {},
   "outputs": [],
   "source": [
    "# lstm_model = get_model(len(pd.unique(imdb_train.label)), embed_matrix)\n",
    "# lstm_model.compile(optimizer='adam', loss='categorical_crossentropy')\n",
    "# lstm_model.fit(imdb_train.inputs, imdb_train.loc[:, slice('neg', 'pos')], batch_size=1)"
   ]
  }
 ],
 "metadata": {
  "kernelspec": {
   "display_name": "Python 3",
   "language": "python",
   "name": "python3"
  },
  "language_info": {
   "codemirror_mode": {
    "name": "ipython",
    "version": 3
   },
   "file_extension": ".py",
   "mimetype": "text/x-python",
   "name": "python",
   "nbconvert_exporter": "python",
   "pygments_lexer": "ipython3",
   "version": "3.6.6"
  }
 },
 "nbformat": 4,
 "nbformat_minor": 2
}
